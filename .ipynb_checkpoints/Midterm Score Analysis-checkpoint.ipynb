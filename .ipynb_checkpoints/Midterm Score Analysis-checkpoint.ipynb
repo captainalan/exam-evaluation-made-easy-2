{
 "cells": [
  {
   "cell_type": "markdown",
   "metadata": {},
   "source": [
    "# Midterm Score Analysis\n",
    "\n",
    "November 28, 2018\n",
    "\n",
    "In this notebook, we read in data, acquire some summary statistics, and plot a histogram of some exam scores. \n",
    "\n",
    "## Setup\n",
    "\n",
    "This [Jupyter notebook](http://jupyter.org/) is best run from inside [virtual environment](https://docs.python.org/3/library/venv.html). There are many good reasons to use Python (3)'s `venv` module—read more on [Real Python](https://realpython.com/python-virtual-environments-a-primer/). \n",
    "\n",
    "## Read in the data\n",
    "\n",
    "Data comes from a file called `scores.csv` what is in the same directory as this (Jupyter Notebook) file. It is simply a list of scores, one per line that looks something like this:\n",
    "\n",
    "```\n",
    "28\n",
    "34\n",
    "31\n",
    "16\n",
    "32\n",
    "...\n",
    "```\n",
    "\n",
    "These particular scores are real (anonymized) data, from a multiple choice exam out of 42 questions.\n",
    "\n",
    "Note that we read this file as a `.csv` file here, but that really isn't necessary. As you can see above there are no commas 😉"
   ]
  },
  {
   "cell_type": "code",
   "execution_count": 70,
   "metadata": {},
   "outputs": [],
   "source": [
    "import csv\n",
    "\n",
    "scores = []\n",
    "\n",
    "with open('scores.csv') as csv_file:\n",
    "    csv_reader = csv.reader(csv_file, delimiter=',')\n",
    "    for row in csv_reader:\n",
    "        try:\n",
    "            score = int(row[0]) # Only need first element because row of len 1\n",
    "        except ValueError:\n",
    "            print(\"Encountered non-numeric data point!\")\n",
    "            pass\n",
    "        scores.append(score) # Append valid scores"
   ]
  },
  {
   "cell_type": "markdown",
   "metadata": {},
   "source": [
    "## Get Some Summary Statistics\n",
    "\n",
    "Let's grab some basic summary statistics:"
   ]
  },
  {
   "cell_type": "code",
   "execution_count": 72,
   "metadata": {},
   "outputs": [
    {
     "name": "stdout",
     "output_type": "stream",
     "text": [
      "Mean: 28.50, Standard Deviation: 5.67\n"
     ]
    }
   ],
   "source": [
    "import numpy as np\n",
    "from scipy import stats\n",
    "from math import sqrt\n",
    "\n",
    "summary = stats.describe(scores)\n",
    "print(\"Mean: {:.2f}, Standard Deviation: {:.2f}\"\\\n",
    "      .format(summary.mean, sqrt(summary.variance)))"
   ]
  },
  {
   "cell_type": "markdown",
   "metadata": {},
   "source": [
    "This exam is out of 42 question, so the average score is around 68%. Tough times!"
   ]
  },
  {
   "cell_type": "markdown",
   "metadata": {},
   "source": [
    "## Plot the Data\n",
    "\n",
    "Here, I plot a histogram and a normal curve fit to the data. \n",
    "\n",
    "In order to show both the histogram bins and the fitten line, I normed the histogram data in the line `plt.hist(scores, normed=True)`, below. If I didn't do this, then the histogram data would be in terms of raw counts and would not correspond with the fitted line."
   ]
  },
  {
   "cell_type": "code",
   "execution_count": 63,
   "metadata": {},
   "outputs": [
    {
     "data": {
      "image/png": "[encoded data removed]",
      "text/plain": [
       "<matplotlib.figure.Figure at 0x1a10caa4e0>"
      ]
     },
     "metadata": {},
     "output_type": "display_data"
    }
   ],
   "source": [
    "from numpy import histogram\n",
    "import matplotlib.mlab as mlab\n",
    "import matplotlib.pyplot as plt\n",
    "\n",
    "# Plot histogram of data\n",
    "plt.hist(scores, normed=True)\n",
    "\n",
    "# Find minimums/maximums of data\n",
    "xmin, xmax = min(scores), max(scores) # These can also be gotten from the summary object\n",
    "linspace = np.linspace(xmin, xmax, len(scores))\n",
    "\n",
    "# Fit normal distribution and then plot It\n",
    "mu, sigma = stats.norm.fit(scores)\n",
    "pdf_g = stats.norm.pdf(linspace, mu, sigma)\n",
    "plt.plot(linspace, pdf_g, label=\"Norm\")\n",
    "\n",
    "plt.title('Midterm Score Histogram')\n",
    "plt.xlabel('Scores')\n",
    "plt.ylabel('Normed Frequency')\n",
    "\n",
    "plt.show()"
   ]
  },
  {
   "cell_type": "markdown",
   "metadata": {},
   "source": [
    "Visually inspecting the data, it seems we have approximately normal data with a small left skew."
   ]
  },
  {
   "cell_type": "code",
   "execution_count": null,
   "metadata": {},
   "outputs": [],
   "source": []
  }
 ],
 "metadata": {
  "kernelspec": {
   "display_name": "Python 3",
   "language": "python",
   "name": "python3"
  },
  "language_info": {
   "codemirror_mode": {
    "name": "ipython",
    "version": 3
   },
   "file_extension": ".py",
   "mimetype": "text/x-python",
   "name": "python",
   "nbconvert_exporter": "python",
   "pygments_lexer": "ipython3",
   "version": "3.6.4"
  }
 },
 "nbformat": 4,
 "nbformat_minor": 2
}
